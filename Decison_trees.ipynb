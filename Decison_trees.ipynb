{
  "nbformat": 4,
  "nbformat_minor": 0,
  "metadata": {
    "colab": {
      "name": "Decison_trees.ipynb",
      "provenance": []
    },
    "kernelspec": {
      "name": "python3",
      "display_name": "Python 3"
    }
  },
  "cells": [
    {
      "cell_type": "markdown",
      "metadata": {
        "id": "Ea0eWTwkk1YU",
        "colab_type": "text"
      },
      "source": [
        "**Decision Tree**\n"
      ]
    },
    {
      "cell_type": "code",
      "metadata": {
        "id": "QmTL_Kz2jjD8",
        "colab_type": "code",
        "colab": {
          "base_uri": "https://localhost:8080/",
          "height": 261
        },
        "outputId": "d5d1eca5-6a16-48e1-9906-dec92cb84ae6"
      },
      "source": [
        "import numpy as np\n",
        "import pandas as pd\n",
        "from sklearn import tree\n",
        "\n",
        "input_file = \"/content/drive/My Drive/ML Course materials/PastHires.csv\"\n",
        "df= pd.read_csv(input_file, header = 0) #read a csv and convert the file to a dataframe\n",
        "df.head()"
      ],
      "execution_count": 3,
      "outputs": [
        {
          "output_type": "execute_result",
          "data": {
            "text/html": [
              "<div>\n",
              "<style scoped>\n",
              "    .dataframe tbody tr th:only-of-type {\n",
              "        vertical-align: middle;\n",
              "    }\n",
              "\n",
              "    .dataframe tbody tr th {\n",
              "        vertical-align: top;\n",
              "    }\n",
              "\n",
              "    .dataframe thead th {\n",
              "        text-align: right;\n",
              "    }\n",
              "</style>\n",
              "<table border=\"1\" class=\"dataframe\">\n",
              "  <thead>\n",
              "    <tr style=\"text-align: right;\">\n",
              "      <th></th>\n",
              "      <th>Years Experience</th>\n",
              "      <th>Employed?</th>\n",
              "      <th>Previous employers</th>\n",
              "      <th>Level of Education</th>\n",
              "      <th>Top-tier school</th>\n",
              "      <th>Interned</th>\n",
              "      <th>Hired</th>\n",
              "    </tr>\n",
              "  </thead>\n",
              "  <tbody>\n",
              "    <tr>\n",
              "      <th>0</th>\n",
              "      <td>10</td>\n",
              "      <td>Y</td>\n",
              "      <td>4</td>\n",
              "      <td>BS</td>\n",
              "      <td>N</td>\n",
              "      <td>N</td>\n",
              "      <td>Y</td>\n",
              "    </tr>\n",
              "    <tr>\n",
              "      <th>1</th>\n",
              "      <td>0</td>\n",
              "      <td>N</td>\n",
              "      <td>0</td>\n",
              "      <td>BS</td>\n",
              "      <td>Y</td>\n",
              "      <td>Y</td>\n",
              "      <td>Y</td>\n",
              "    </tr>\n",
              "    <tr>\n",
              "      <th>2</th>\n",
              "      <td>7</td>\n",
              "      <td>N</td>\n",
              "      <td>6</td>\n",
              "      <td>BS</td>\n",
              "      <td>N</td>\n",
              "      <td>N</td>\n",
              "      <td>N</td>\n",
              "    </tr>\n",
              "    <tr>\n",
              "      <th>3</th>\n",
              "      <td>2</td>\n",
              "      <td>Y</td>\n",
              "      <td>1</td>\n",
              "      <td>MS</td>\n",
              "      <td>Y</td>\n",
              "      <td>N</td>\n",
              "      <td>Y</td>\n",
              "    </tr>\n",
              "    <tr>\n",
              "      <th>4</th>\n",
              "      <td>20</td>\n",
              "      <td>N</td>\n",
              "      <td>2</td>\n",
              "      <td>PhD</td>\n",
              "      <td>Y</td>\n",
              "      <td>N</td>\n",
              "      <td>N</td>\n",
              "    </tr>\n",
              "  </tbody>\n",
              "</table>\n",
              "</div>"
            ],
            "text/plain": [
              "   Years Experience Employed?  ...  Interned Hired\n",
              "0                10         Y  ...         N     Y\n",
              "1                 0         N  ...         Y     Y\n",
              "2                 7         N  ...         N     N\n",
              "3                 2         Y  ...         N     Y\n",
              "4                20         N  ...         N     N\n",
              "\n",
              "[5 rows x 7 columns]"
            ]
          },
          "metadata": {
            "tags": []
          },
          "execution_count": 3
        }
      ]
    },
    {
      "cell_type": "markdown",
      "metadata": {
        "id": "DAuumj7joakq",
        "colab_type": "text"
      },
      "source": [
        "sckit-learn requires data to be numericals so lets map Y to 1 and N to 0, and the education levels to scale of 0-3"
      ]
    },
    {
      "cell_type": "code",
      "metadata": {
        "id": "afogHklBpDjX",
        "colab_type": "code",
        "colab": {
          "base_uri": "https://localhost:8080/",
          "height": 261
        },
        "outputId": "1c7825f9-f387-4bd0-bb08-fc2cdc6d1853"
      },
      "source": [
        "d = {'Y':1,'N':0} #creating a dictionary to map the Y and N to 1 and 0\n",
        "df['Hired'] = df['Hired'].map(d)#maps all the Y and N to 1 and 0\n",
        "df['Employed?'] = df['Employed?'].map(d)\n",
        "df['Top-tier school'] = df['Top-tier school'].map(d)\n",
        "df['Interned'] = df['Interned'].map(d)\n",
        "\n",
        "e = {'BS':0, 'MS':1, 'PhD':2}#mapping the level of education to 0-2 scale\n",
        "df['Level of Education'] = df['Level of Education'].map(e)\n",
        "df.head()"
      ],
      "execution_count": 4,
      "outputs": [
        {
          "output_type": "execute_result",
          "data": {
            "text/html": [
              "<div>\n",
              "<style scoped>\n",
              "    .dataframe tbody tr th:only-of-type {\n",
              "        vertical-align: middle;\n",
              "    }\n",
              "\n",
              "    .dataframe tbody tr th {\n",
              "        vertical-align: top;\n",
              "    }\n",
              "\n",
              "    .dataframe thead th {\n",
              "        text-align: right;\n",
              "    }\n",
              "</style>\n",
              "<table border=\"1\" class=\"dataframe\">\n",
              "  <thead>\n",
              "    <tr style=\"text-align: right;\">\n",
              "      <th></th>\n",
              "      <th>Years Experience</th>\n",
              "      <th>Employed?</th>\n",
              "      <th>Previous employers</th>\n",
              "      <th>Level of Education</th>\n",
              "      <th>Top-tier school</th>\n",
              "      <th>Interned</th>\n",
              "      <th>Hired</th>\n",
              "    </tr>\n",
              "  </thead>\n",
              "  <tbody>\n",
              "    <tr>\n",
              "      <th>0</th>\n",
              "      <td>10</td>\n",
              "      <td>1</td>\n",
              "      <td>4</td>\n",
              "      <td>0</td>\n",
              "      <td>0</td>\n",
              "      <td>0</td>\n",
              "      <td>1</td>\n",
              "    </tr>\n",
              "    <tr>\n",
              "      <th>1</th>\n",
              "      <td>0</td>\n",
              "      <td>0</td>\n",
              "      <td>0</td>\n",
              "      <td>0</td>\n",
              "      <td>1</td>\n",
              "      <td>1</td>\n",
              "      <td>1</td>\n",
              "    </tr>\n",
              "    <tr>\n",
              "      <th>2</th>\n",
              "      <td>7</td>\n",
              "      <td>0</td>\n",
              "      <td>6</td>\n",
              "      <td>0</td>\n",
              "      <td>0</td>\n",
              "      <td>0</td>\n",
              "      <td>0</td>\n",
              "    </tr>\n",
              "    <tr>\n",
              "      <th>3</th>\n",
              "      <td>2</td>\n",
              "      <td>1</td>\n",
              "      <td>1</td>\n",
              "      <td>1</td>\n",
              "      <td>1</td>\n",
              "      <td>0</td>\n",
              "      <td>1</td>\n",
              "    </tr>\n",
              "    <tr>\n",
              "      <th>4</th>\n",
              "      <td>20</td>\n",
              "      <td>0</td>\n",
              "      <td>2</td>\n",
              "      <td>2</td>\n",
              "      <td>1</td>\n",
              "      <td>0</td>\n",
              "      <td>0</td>\n",
              "    </tr>\n",
              "  </tbody>\n",
              "</table>\n",
              "</div>"
            ],
            "text/plain": [
              "   Years Experience  Employed?  ...  Interned  Hired\n",
              "0                10          1  ...         0      1\n",
              "1                 0          0  ...         1      1\n",
              "2                 7          0  ...         0      0\n",
              "3                 2          1  ...         0      1\n",
              "4                20          0  ...         0      0\n",
              "\n",
              "[5 rows x 7 columns]"
            ]
          },
          "metadata": {
            "tags": []
          },
          "execution_count": 4
        }
      ]
    },
    {
      "cell_type": "markdown",
      "metadata": {
        "id": "InXUVij7snGE",
        "colab_type": "text"
      },
      "source": [
        "Taking the header of the df for making decision tree."
      ]
    },
    {
      "cell_type": "code",
      "metadata": {
        "id": "4-ogT0r7qHRJ",
        "colab_type": "code",
        "colab": {
          "base_uri": "https://localhost:8080/",
          "height": 126
        },
        "outputId": "5dbd5497-b53b-4ad4-9d50-9f96008bcf08"
      },
      "source": [
        "headers = list(df.columns[:6])\n",
        "headers"
      ],
      "execution_count": 5,
      "outputs": [
        {
          "output_type": "execute_result",
          "data": {
            "text/plain": [
              "['Years Experience',\n",
              " 'Employed?',\n",
              " 'Previous employers',\n",
              " 'Level of Education',\n",
              " 'Top-tier school',\n",
              " 'Interned']"
            ]
          },
          "metadata": {
            "tags": []
          },
          "execution_count": 5
        }
      ]
    },
    {
      "cell_type": "markdown",
      "metadata": {
        "id": "H6bwnK9Us3kd",
        "colab_type": "text"
      },
      "source": [
        "Making decision tree\n",
        "\n"
      ]
    },
    {
      "cell_type": "code",
      "metadata": {
        "id": "ZX2NQYM6tCJ5",
        "colab_type": "code",
        "colab": {}
      },
      "source": [
        "y = df['Hired']\n",
        "X = df[headers]\n",
        "clf = tree.DecisionTreeClassifier() #create a instance of the classifier\n",
        "clf = clf.fit(X,y) "
      ],
      "execution_count": 0,
      "outputs": []
    },
    {
      "cell_type": "markdown",
      "metadata": {
        "id": "5vMDYVNGuSIG",
        "colab_type": "text"
      },
      "source": [
        "gini score is the measure of the enropy. samples are the number of the sample."
      ]
    },
    {
      "cell_type": "code",
      "metadata": {
        "id": "Mb8liuhwuiiQ",
        "colab_type": "code",
        "colab": {
          "base_uri": "https://localhost:8080/",
          "height": 653
        },
        "outputId": "6944f5ce-88b4-4e53-b349-aa30b5cceadd"
      },
      "source": [
        "from IPython.display import Image\n",
        "from sklearn.externals.six import StringIO\n",
        "import pydotplus\n",
        "\n",
        "dot_data = StringIO()\n",
        "tree.export_graphviz(clf, out_file=dot_data, feature_names=headers)\n",
        "graph = pydotplus.graph_from_dot_data(dot_data.getvalue())\n",
        "Image(graph.create_png())"
      ],
      "execution_count": 7,
      "outputs": [
        {
          "output_type": "execute_result",
          "data": {
            "image/png": "[encoded data removed]",
            "text/plain": [
              "<IPython.core.display.Image object>"
            ]
          },
          "metadata": {
            "tags": []
          },
          "execution_count": 7
        }
      ]
    },
    {
      "cell_type": "markdown",
      "metadata": {
        "id": "C179d4U2vdvf",
        "colab_type": "text"
      },
      "source": [
        "Random Forest: Enabling a random forest of 10 decision tree to predict employment."
      ]
    },
    {
      "cell_type": "code",
      "metadata": {
        "id": "kEH_C0bsv2Co",
        "colab_type": "code",
        "colab": {}
      },
      "source": [
        "from sklearn.ensemble import RandomForestClassifier\n",
        "\n",
        "clf = RandomForestClassifier(n_estimators=10)\n",
        "clf = clf.fit(X,y)"
      ],
      "execution_count": 0,
      "outputs": []
    },
    {
      "cell_type": "markdown",
      "metadata": {
        "id": "HB9cOfKCwFur",
        "colab_type": "text"
      },
      "source": [
        "Lets predict employment of sample candidates..."
      ]
    },
    {
      "cell_type": "code",
      "metadata": {
        "id": "GuOCbuv4wL4C",
        "colab_type": "code",
        "colab": {
          "base_uri": "https://localhost:8080/",
          "height": 90
        },
        "outputId": "2128768d-ee19-4630-91cc-38711ff46d07"
      },
      "source": [
        "print(clf.predict([[10,1,4,0,1,0]]))\n",
        "print(clf.predict([[10,0,4,0,0,1]]))\n",
        "print(clf.predict([[10,1,4,0,0,0]]))\n",
        "print(clf.predict([[1,0,4,0,0,0]]))"
      ],
      "execution_count": 12,
      "outputs": [
        {
          "output_type": "stream",
          "text": [
            "[1]\n",
            "[1]\n",
            "[1]\n",
            "[0]\n"
          ],
          "name": "stdout"
        }
      ]
    }
  ]
}