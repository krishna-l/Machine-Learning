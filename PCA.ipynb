{
  "nbformat": 4,
  "nbformat_minor": 0,
  "metadata": {
    "colab": {
      "name": "PCA.ipynb",
      "provenance": []
    },
    "kernelspec": {
      "name": "python3",
      "display_name": "Python 3"
    }
  },
  "cells": [
    {
      "cell_type": "markdown",
      "metadata": {
        "id": "UeViElGYyhhj",
        "colab_type": "text"
      },
      "source": [
        "**Principal Component Analysis**\n",
        "It is a dimensionality reduction techique that lets you distill the multi-dimensional data down to a fewer dimensions by selecting a new dimension that preserves the variance in the data.\n",
        "\n",
        "Here we use the Iris dataset in scikit-learn, which ahs a four dimensions of data for three different kinds of Iris flowers. The length and width of both the petals and sepals of many individual flowers from each species."
      ]
    },
    {
      "cell_type": "code",
      "metadata": {
        "id": "JyGvpXZKv3u1",
        "colab_type": "code",
        "colab": {
          "base_uri": "https://localhost:8080/",
          "height": 72
        },
        "outputId": "1dc0490b-c32f-45a0-de59-97f0bd3d498a"
      },
      "source": [
        "from sklearn.datasets import load_iris\n",
        "from sklearn.decomposition import PCA\n",
        "import pylab as pl\n",
        "from itertools import cycle\n",
        "\n",
        "iris = load_iris()\n",
        "\n",
        "numSamples, numFeatures = iris.data.shape\n",
        "print(numSamples) #total number of samples\n",
        "print(numFeatures) #total number of features\n",
        "print(list(iris.target_names))"
      ],
      "execution_count": 1,
      "outputs": [
        {
          "output_type": "stream",
          "text": [
            "150\n",
            "4\n",
            "['setosa', 'versicolor', 'virginica']\n"
          ],
          "name": "stdout"
        }
      ]
    },
    {
      "cell_type": "markdown",
      "metadata": {
        "id": "wz80jIvb16XQ",
        "colab_type": "text"
      },
      "source": [
        "Since there is 4 features each feature is a dimension so our brains can't visualise the data. So using PCA we can reduce the 4D data to 2 orthogonal 2D data using PCA without affecting the variance"
      ]
    },
    {
      "cell_type": "code",
      "metadata": {
        "id": "jXw51Y6p2UlZ",
        "colab_type": "code",
        "colab": {}
      },
      "source": [
        "X = iris.data\n",
        "pca = PCA(n_components=2,whiten=True).fit(X) # n_components defines the number of dimensions the data is reduced to. Whiten normalises the data by itself.\n",
        "X_pca = pca.transform(X)"
      ],
      "execution_count": 0,
      "outputs": []
    },
    {
      "cell_type": "code",
      "metadata": {
        "id": "lF-Sjj6Y3lyA",
        "colab_type": "code",
        "colab": {
          "base_uri": "https://localhost:8080/",
          "height": 53
        },
        "outputId": "7ccd3166-65d8-4057-ee2a-561cdf8f113c"
      },
      "source": [
        "print(pca.components_) #those 2 4D eigen vectors used are"
      ],
      "execution_count": 6,
      "outputs": [
        {
          "output_type": "stream",
          "text": [
            "[[ 0.36138659 -0.08452251  0.85667061  0.3582892 ]\n",
            " [ 0.65658877  0.73016143 -0.17337266 -0.07548102]]\n"
          ],
          "name": "stdout"
        }
      ]
    },
    {
      "cell_type": "markdown",
      "metadata": {
        "id": "zODII8NE37z-",
        "colab_type": "text"
      },
      "source": [
        "PCA model returns explained variance ratio which defines how much of the previous variance is preserved. "
      ]
    },
    {
      "cell_type": "code",
      "metadata": {
        "id": "EgZwl8-437WT",
        "colab_type": "code",
        "colab": {
          "base_uri": "https://localhost:8080/",
          "height": 53
        },
        "outputId": "f5dbed5e-d14f-4609-8f5f-4dbf98268449"
      },
      "source": [
        "print(pca.explained_variance_ratio_)\n",
        "print(sum(pca.explained_variance_ratio_))"
      ],
      "execution_count": 7,
      "outputs": [
        {
          "output_type": "stream",
          "text": [
            "[0.92461872 0.05306648]\n",
            "0.977685206318795\n"
          ],
          "name": "stdout"
        }
      ]
    },
    {
      "cell_type": "markdown",
      "metadata": {
        "id": "X1HdxeSi4n0h",
        "colab_type": "text"
      },
      "source": [
        "Lets visualise it "
      ]
    },
    {
      "cell_type": "code",
      "metadata": {
        "id": "lE771hYJ4qBS",
        "colab_type": "code",
        "colab": {
          "base_uri": "https://localhost:8080/",
          "height": 265
        },
        "outputId": "f7153aca-724e-4169-b4c2-2972ceb3c89b"
      },
      "source": [
        "%matplotlib inline\n",
        "from pylab import *\n",
        "\n",
        "colors = cycle('rgb') # set colors\n",
        "target_ids = range(len(iris.target_names))\n",
        "pl.figure()\n",
        "\n",
        "for i, c, label in zip(target_ids, colors, iris.target_names):\n",
        "    pl.scatter(X_pca[iris.target == i, 0], X_pca[iris.target == i, 1],\n",
        "        c=c, label=label)\n",
        "pl.legend()\n",
        "pl.show()\n",
        "    "
      ],
      "execution_count": 8,
      "outputs": [
        {
          "output_type": "display_data",
          "data": {
            "image/png": "[encoded data removed]",
            "text/plain": [
              "<Figure size 432x288 with 1 Axes>"
            ]
          },
          "metadata": {
            "tags": []
          }
        }
      ]
    }
  ]
}