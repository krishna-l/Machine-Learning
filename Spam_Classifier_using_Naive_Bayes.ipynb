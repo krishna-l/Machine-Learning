{
  "nbformat": 4,
  "nbformat_minor": 0,
  "metadata": {
    "colab": {
      "name": "Spam Classifier using Naive Bayes.ipynb",
      "provenance": [],
      "collapsed_sections": []
    },
    "kernelspec": {
      "name": "python3",
      "display_name": "Python 3"
    }
  },
  "cells": [
    {
      "cell_type": "markdown",
      "metadata": {
        "id": "sIsD4mMI3jt8",
        "colab_type": "text"
      },
      "source": [
        "**Spam Classifier using Naive Bayes**"
      ]
    },
    {
      "cell_type": "markdown",
      "metadata": {
        "id": "GiyGlsAa9CNo",
        "colab_type": "text"
      },
      "source": [
        "We are importing the spam and not spam files and creating a dataframe. The dataframe consists of a class column which helps to identify the type of the mail."
      ]
    },
    {
      "cell_type": "code",
      "metadata": {
        "id": "LkGh8oHF3Xzr",
        "colab_type": "code",
        "colab": {}
      },
      "source": [
        "import os\n",
        "import io\n",
        "import numpy\n",
        "from pandas import DataFrame\n",
        "from sklearn.feature_extraction.text import CountVectorizer #to find count of a word\n",
        "from sklearn.naive_bayes import MultinomialNB #used for naive bayes classification \n",
        "\n",
        "def readFiles(path):\n",
        "  for root, dirnames, filenames in os.walk(path): #os.walk() used to input the files from the directory\n",
        "    for filename in filenames:\n",
        "      path = os.path.join(root, filename)\n",
        "      inBody=False\n",
        "      lines=[]\n",
        "      f=io.open(path, 'r', encoding='latin1')\n",
        "      for line in f: #to check if the line is message or body.. omitting the body\n",
        "        if inBody:\n",
        "          lines.append(line)\n",
        "        elif line == '\\n':\n",
        "          inBody=True\n",
        "      f.close()\n",
        "      message = '\\n'.join(lines)\n",
        "      yield path, message\n",
        "\n",
        "def dataFrameFromDirectory(path, classification):\n",
        "  rows=[]\n",
        "  index=[]\n",
        "  for filename, message in readFiles(path):  #used to read the files ffrom the directory\n",
        "    rows.append({'message': message, 'class':classification}) #maps message and classification\n",
        "    index.append(filename) #index for the data dataframe will be the file name of the file containing the email\n",
        "  return DataFrame(rows, index=index)\n",
        "\n",
        "data = DataFrame({'message':[], 'class':[]}) #Dataframe object contains message and class of emails (spam or not spam)\n",
        "data = data.append(dataFrameFromDirectory('/content/drive/My Drive/ML Course materials/emails/spam','spam'))#appending spam mails from the file\n",
        "data = data.append(dataFrameFromDirectory('/content/drive/My Drive/ML Course materials/emails/not_spam','not spam'))#appending not spam mails from the file\n"
      ],
      "execution_count": 0,
      "outputs": []
    },
    {
      "cell_type": "code",
      "metadata": {
        "id": "0GmqwEgFBkJL",
        "colab_type": "code",
        "colab": {
          "base_uri": "https://localhost:8080/",
          "height": 400
        },
        "outputId": "829f8d2c-16fa-48d8-e0b2-17e8607294c0"
      },
      "source": [
        "data.head()"
      ],
      "execution_count": 3,
      "outputs": [
        {
          "output_type": "execute_result",
          "data": {
            "text/html": [
              "<div>\n",
              "<style scoped>\n",
              "    .dataframe tbody tr th:only-of-type {\n",
              "        vertical-align: middle;\n",
              "    }\n",
              "\n",
              "    .dataframe tbody tr th {\n",
              "        vertical-align: top;\n",
              "    }\n",
              "\n",
              "    .dataframe thead th {\n",
              "        text-align: right;\n",
              "    }\n",
              "</style>\n",
              "<table border=\"1\" class=\"dataframe\">\n",
              "  <thead>\n",
              "    <tr style=\"text-align: right;\">\n",
              "      <th></th>\n",
              "      <th>message</th>\n",
              "      <th>class</th>\n",
              "    </tr>\n",
              "  </thead>\n",
              "  <tbody>\n",
              "    <tr>\n",
              "      <th>/content/drive/My Drive/ML Course materials/emails/spam/00003.2ee33bc6eacdb11f38d052c44819ba6c</th>\n",
              "      <td>1) Fight The Risk of Cancer!\\n\\nhttp://www.adc...</td>\n",
              "      <td>spam</td>\n",
              "    </tr>\n",
              "    <tr>\n",
              "      <th>/content/drive/My Drive/ML Course materials/emails/spam/00002.d94f1b97e48ed3b553b3508d116e6a09</th>\n",
              "      <td>1) Fight The Risk of Cancer!\\n\\nhttp://www.adc...</td>\n",
              "      <td>spam</td>\n",
              "    </tr>\n",
              "    <tr>\n",
              "      <th>/content/drive/My Drive/ML Course materials/emails/spam/00001.7848dde101aa985090474a91ec93fcf0</th>\n",
              "      <td>&lt;!DOCTYPE HTML PUBLIC \"-//W3C//DTD HTML 4.0 Tr...</td>\n",
              "      <td>spam</td>\n",
              "    </tr>\n",
              "    <tr>\n",
              "      <th>/content/drive/My Drive/ML Course materials/emails/spam/00004.eac8de8d759b7e74154f142194282724</th>\n",
              "      <td>##############################################...</td>\n",
              "      <td>spam</td>\n",
              "    </tr>\n",
              "    <tr>\n",
              "      <th>/content/drive/My Drive/ML Course materials/emails/spam/00005.57696a39d7d84318ce497886896bf90d</th>\n",
              "      <td>I thought you might like these:\\n\\n1) Slim Dow...</td>\n",
              "      <td>spam</td>\n",
              "    </tr>\n",
              "  </tbody>\n",
              "</table>\n",
              "</div>"
            ],
            "text/plain": [
              "                                                                                              message class\n",
              "/content/drive/My Drive/ML Course materials/ema...  1) Fight The Risk of Cancer!\\n\\nhttp://www.adc...  spam\n",
              "/content/drive/My Drive/ML Course materials/ema...  1) Fight The Risk of Cancer!\\n\\nhttp://www.adc...  spam\n",
              "/content/drive/My Drive/ML Course materials/ema...  <!DOCTYPE HTML PUBLIC \"-//W3C//DTD HTML 4.0 Tr...  spam\n",
              "/content/drive/My Drive/ML Course materials/ema...  ##############################################...  spam\n",
              "/content/drive/My Drive/ML Course materials/ema...  I thought you might like these:\\n\\n1) Slim Dow...  spam"
            ]
          },
          "metadata": {
            "tags": []
          },
          "execution_count": 3
        }
      ]
    },
    {
      "cell_type": "markdown",
      "metadata": {
        "id": "EpRF2oejDJua",
        "colab_type": "text"
      },
      "source": [
        "Using CountVectorizer word count in each mail is found and we can use it in the Naive Bayes classifier. "
      ]
    },
    {
      "cell_type": "code",
      "metadata": {
        "id": "QEvxvkjFDJXJ",
        "colab_type": "code",
        "colab": {
          "base_uri": "https://localhost:8080/",
          "height": 35
        },
        "outputId": "966c3faa-40fc-4516-a6d3-6158a486f233"
      },
      "source": [
        "vectorizer = CountVectorizer() \n",
        "counts = vectorizer.fit_transform(data['message'].values) #get the value of the message column in data and find the count of each words\n",
        "\n",
        "classifier = MultinomialNB()\n",
        "targets = data['class'].values\n",
        "classifier.fit(counts, targets) #training the model using the number of times a particular word has occured in the message and the type of the message"
      ],
      "execution_count": 12,
      "outputs": [
        {
          "output_type": "execute_result",
          "data": {
            "text/plain": [
              "MultinomialNB(alpha=1.0, class_prior=None, fit_prior=True)"
            ]
          },
          "metadata": {
            "tags": []
          },
          "execution_count": 12
        }
      ]
    },
    {
      "cell_type": "code",
      "metadata": {
        "id": "_HXV-0AKEh2t",
        "colab_type": "code",
        "colab": {
          "base_uri": "https://localhost:8080/",
          "height": 53
        },
        "outputId": "ac8b6628-e719-4114-dcfc-1a213aeae67c"
      },
      "source": [
        "##Sample test\n",
        "\n",
        "test = ['Credit Card free with loans upto 100000','Buy one get one free free Hurry up', 'Hi,I wont be available tomorrow can you take care?', 'Baby I love you a lot', \"Monthly subscription at just 999\"]\n",
        "test_counts = vectorizer.transform(test)\n",
        "predictions = classifier.predict(test_counts)\n",
        "predictions"
      ],
      "execution_count": 16,
      "outputs": [
        {
          "output_type": "execute_result",
          "data": {
            "text/plain": [
              "array(['spam', 'not spam', 'not spam', 'not spam', 'not spam'],\n",
              "      dtype='<U8')"
            ]
          },
          "metadata": {
            "tags": []
          },
          "execution_count": 16
        }
      ]
    }
  ]
}