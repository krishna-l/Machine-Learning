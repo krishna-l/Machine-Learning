{
  "nbformat": 4,
  "nbformat_minor": 0,
  "metadata": {
    "colab": {
      "name": "Reinforcement Learning.ipynb",
      "provenance": []
    },
    "kernelspec": {
      "name": "python3",
      "display_name": "Python 3"
    }
  },
  "cells": [
    {
      "cell_type": "markdown",
      "metadata": {
        "id": "JPVL7PcwDACH",
        "colab_type": "text"
      },
      "source": [
        "**Reinforment Learning**\n",
        "*Using Q-Learning.* Lets take an example of self-driving taxi that can pick up passengers at one set of fixed location and drop them off at another and get there in the quickest amount of time avoiding obstacles. Using AI Gym lets create this environment"
      ]
    },
    {
      "cell_type": "code",
      "metadata": {
        "id": "fiIsmlXkD81V",
        "colab_type": "code",
        "colab": {
          "base_uri": "https://localhost:8080/",
          "height": 162
        },
        "outputId": "75175cdb-8ebb-42fd-aac8-bb66332a67bd"
      },
      "source": [
        "import gym\n",
        "import random\n",
        "\n",
        "random.seed(123)\n",
        "\n",
        "streets = gym.make(\"Taxi-v3\").env #contains the rules\n",
        "streets.render()"
      ],
      "execution_count": 4,
      "outputs": [
        {
          "output_type": "stream",
          "text": [
            "+---------+\n",
            "|\u001b[43mR\u001b[0m: | : :G|\n",
            "| : | : : |\n",
            "| : : : : |\n",
            "| | : | : |\n",
            "|\u001b[34;1mY\u001b[0m| : |\u001b[35mB\u001b[0m: |\n",
            "+---------+\n",
            "\n"
          ],
          "name": "stdout"
        }
      ]
    },
    {
      "cell_type": "markdown",
      "metadata": {
        "id": "AZyB70miEnzw",
        "colab_type": "text"
      },
      "source": [
        "Taxi-v3 environment description: \n",
        "\n",
        "R,G,B,and Y are the passenger pick up and drop off location\n",
        "Letter colored blue indicates the pick up location.\n",
        "Letter colored magenta indicates the drop location.\n",
        "Solid lines represent walls.\n",
        "filled in rectangle in yellow color is the taxi.\n",
        "\n",
        "\n",
        "This is a 5x5 grid. The state of the grid can be defined by:\n",
        "\n",
        "Where the taxi is. (5x5 = 25 locations)\n",
        "Where the current destination is. (4 possibilities)\n",
        "Where the passenger is. (5 Possibilities including inside taxi)\n",
        "\n",
        "So there are a total of 25x5x4 = 500 possible states.\n",
        "\n",
        "For each State there are six possible actions.\n",
        "\n",
        "Move in any direction(North, East, West, and South)\n",
        "Pick up the passenger.\n",
        "Drop the passenger.\n",
        "\n",
        "Rewards and Penalties: \n",
        "\n",
        "A successful drop = +20 points\n",
        "Everytime step taken with the passenger = +1 point.\n",
        "Picking up and dropping at wrong locations = -10 points.\n",
        "\n",
        "Moving across the line isnt allowed.\n"
      ]
    },
    {
      "cell_type": "code",
      "metadata": {
        "id": "uZmk1AijHhKo",
        "colab_type": "code",
        "colab": {
          "base_uri": "https://localhost:8080/",
          "height": 162
        },
        "outputId": "97d18a38-1eb0-4b22-f8e6-c3d96e2e81cc"
      },
      "source": [
        "initial_state = streets.encode(2,3,2,0)\n",
        "streets.s = initial_state\n",
        "streets.render()"
      ],
      "execution_count": 5,
      "outputs": [
        {
          "output_type": "stream",
          "text": [
            "+---------+\n",
            "|\u001b[35mR\u001b[0m: | : :G|\n",
            "| : | : : |\n",
            "| : : :\u001b[43m \u001b[0m: |\n",
            "| | : | : |\n",
            "|\u001b[34;1mY\u001b[0m| : |B: |\n",
            "+---------+\n",
            "\n"
          ],
          "name": "stdout"
        }
      ]
    },
    {
      "cell_type": "code",
      "metadata": {
        "id": "hj_LhdJRH57M",
        "colab_type": "code",
        "colab": {
          "base_uri": "https://localhost:8080/",
          "height": 126
        },
        "outputId": "5786c8a9-a381-44f6-e220-fd058fca8f7b"
      },
      "source": [
        "streets.P[initial_state] #reward table for the inital state"
      ],
      "execution_count": 6,
      "outputs": [
        {
          "output_type": "execute_result",
          "data": {
            "text/plain": [
              "{0: [(1.0, 368, -1, False)],\n",
              " 1: [(1.0, 168, -1, False)],\n",
              " 2: [(1.0, 288, -1, False)],\n",
              " 3: [(1.0, 248, -1, False)],\n",
              " 4: [(1.0, 268, -10, False)],\n",
              " 5: [(1.0, 268, -10, False)]}"
            ]
          },
          "metadata": {
            "tags": []
          },
          "execution_count": 6
        }
      ]
    },
    {
      "cell_type": "markdown",
      "metadata": {
        "id": "QUSh3gHbIXTe",
        "colab_type": "text"
      },
      "source": [
        "Designing our Q-Learning learning algorithm."
      ]
    },
    {
      "cell_type": "code",
      "metadata": {
        "id": "fvE-DBqmIdyl",
        "colab_type": "code",
        "colab": {}
      },
      "source": [
        "import numpy as np\n",
        "\n",
        "q_table = np.zeros([streets.observation_space.n, streets.action_space.n]) #2D array with all the actions and observations initialised to zero\n",
        "\n",
        "learning_rate = 0.1 #how quickly an algorithm learns\n",
        "discount_factor = 0.6\n",
        "exploration = 0.1 \n",
        "epochs = 10000 #number of times it goes through the taxi rins.\n",
        "\n",
        "for taxi_run in range(epochs):\n",
        "  state = streets.reset() #reset all the states\n",
        "  done = False\n",
        "  \n",
        "  while not done:\n",
        "    random_value = random.uniform(0,1) #take a random no between 0 and 1\n",
        "    if(random_value < exploration):\n",
        "      action = streets.action_space.sample() #explore a random action\n",
        "    else:\n",
        "      action = np.argmax(q_table[state]) #usse an action with highest q-value\n",
        "\n",
        "    next_state, reward, done, info = streets.step(action) #apply and get the details from the action\n",
        "\n",
        "    prev_q = q_table[state, action] #current q values\n",
        "    next_max_q = np.max(q_table[next_state]) #next state max q value\n",
        "    new_q = (1 - learning_rate) * prev_q + learning_rate * (reward + discount_factor * next_max_q) # from the q learning equation compute the new q value\n",
        "    q_table[state, action] = new_q #Assign the new state table to the new q value\n",
        "         \n",
        "    state = next_state  # this continues till the passenger is dropped\n"
      ],
      "execution_count": 0,
      "outputs": []
    },
    {
      "cell_type": "code",
      "metadata": {
        "id": "YCt2qV5yLai2",
        "colab_type": "code",
        "colab": {
          "base_uri": "https://localhost:8080/",
          "height": 73
        },
        "outputId": "b4e561e9-357d-427a-a66b-bebd312916ef"
      },
      "source": [
        "q_table[initial_state]"
      ],
      "execution_count": 9,
      "outputs": [
        {
          "output_type": "execute_result",
          "data": {
            "text/plain": [
              "array([-2.42860034, -2.40766244, -2.40029153, -2.3639511 , -9.43185334,\n",
              "       -8.08032874])"
            ]
          },
          "metadata": {
            "tags": []
          },
          "execution_count": 9
        }
      ]
    },
    {
      "cell_type": "markdown",
      "metadata": {
        "id": "Ba7On7g4L7uQ",
        "colab_type": "text"
      },
      "source": [
        "Now lets simulate the trained taxi with a 10 trips which are randomly started and display the output"
      ]
    },
    {
      "cell_type": "code",
      "metadata": {
        "id": "6IydgANmL7Sj",
        "colab_type": "code",
        "colab": {
          "base_uri": "https://localhost:8080/",
          "height": 199
        },
        "outputId": "787cd57a-5bb2-4007-b63a-d4d331f94a65"
      },
      "source": [
        "from IPython.display import clear_output\n",
        "from time import sleep\n",
        "\n",
        "for tripnum in range(1, 11):\n",
        "    state = streets.reset()\n",
        "   \n",
        "    done = False\n",
        "    trip_length = 0\n",
        "    \n",
        "    while not done and trip_length < 25:\n",
        "        action = np.argmax(q_table[state])\n",
        "        next_state, reward, done, info = streets.step(action)\n",
        "        clear_output(wait=True)\n",
        "        print(\"Trip number \" + str(tripnum) + \" Step \" + str(trip_length))\n",
        "        print(streets.render(mode='ansi'))\n",
        "        sleep(.5)\n",
        "        state = next_state\n",
        "        trip_length += 1\n",
        "        \n",
        "    sleep(2)"
      ],
      "execution_count": 10,
      "outputs": [
        {
          "output_type": "stream",
          "text": [
            "Trip number 10 Step 13\n",
            "+---------+\n",
            "|R: | : :G|\n",
            "| : | : : |\n",
            "| : : : : |\n",
            "| | : | : |\n",
            "|Y| : |\u001b[35m\u001b[34;1m\u001b[43mB\u001b[0m\u001b[0m\u001b[0m: |\n",
            "+---------+\n",
            "  (Dropoff)\n",
            "\n"
          ],
          "name": "stdout"
        }
      ]
    }
  ]
}